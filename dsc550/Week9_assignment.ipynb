{
 "cells": [
  {
   "cell_type": "code",
   "execution_count": 80,
   "id": "5f1cc08f",
   "metadata": {},
   "outputs": [],
   "source": [
    "import pandas as pd"
   ]
  },
  {
   "cell_type": "code",
   "execution_count": 81,
   "id": "79a4f2dc",
   "metadata": {},
   "outputs": [],
   "source": [
    "df = pd.read_csv(\"Loan_Train.csv\")"
   ]
  },
  {
   "cell_type": "code",
   "execution_count": 82,
   "id": "70d9dd0a",
   "metadata": {},
   "outputs": [
    {
     "data": {
      "text/html": [
       "<div>\n",
       "<style scoped>\n",
       "    .dataframe tbody tr th:only-of-type {\n",
       "        vertical-align: middle;\n",
       "    }\n",
       "\n",
       "    .dataframe tbody tr th {\n",
       "        vertical-align: top;\n",
       "    }\n",
       "\n",
       "    .dataframe thead th {\n",
       "        text-align: right;\n",
       "    }\n",
       "</style>\n",
       "<table border=\"1\" class=\"dataframe\">\n",
       "  <thead>\n",
       "    <tr style=\"text-align: right;\">\n",
       "      <th></th>\n",
       "      <th>Loan_ID</th>\n",
       "      <th>Gender</th>\n",
       "      <th>Married</th>\n",
       "      <th>Dependents</th>\n",
       "      <th>Education</th>\n",
       "      <th>Self_Employed</th>\n",
       "      <th>ApplicantIncome</th>\n",
       "      <th>CoapplicantIncome</th>\n",
       "      <th>LoanAmount</th>\n",
       "      <th>Loan_Amount_Term</th>\n",
       "      <th>Credit_History</th>\n",
       "      <th>Property_Area</th>\n",
       "      <th>Loan_Status</th>\n",
       "    </tr>\n",
       "  </thead>\n",
       "  <tbody>\n",
       "    <tr>\n",
       "      <th>0</th>\n",
       "      <td>LP001002</td>\n",
       "      <td>Male</td>\n",
       "      <td>No</td>\n",
       "      <td>0</td>\n",
       "      <td>Graduate</td>\n",
       "      <td>No</td>\n",
       "      <td>5849</td>\n",
       "      <td>0.0</td>\n",
       "      <td>NaN</td>\n",
       "      <td>360.0</td>\n",
       "      <td>1.0</td>\n",
       "      <td>Urban</td>\n",
       "      <td>Y</td>\n",
       "    </tr>\n",
       "    <tr>\n",
       "      <th>1</th>\n",
       "      <td>LP001003</td>\n",
       "      <td>Male</td>\n",
       "      <td>Yes</td>\n",
       "      <td>1</td>\n",
       "      <td>Graduate</td>\n",
       "      <td>No</td>\n",
       "      <td>4583</td>\n",
       "      <td>1508.0</td>\n",
       "      <td>128.0</td>\n",
       "      <td>360.0</td>\n",
       "      <td>1.0</td>\n",
       "      <td>Rural</td>\n",
       "      <td>N</td>\n",
       "    </tr>\n",
       "    <tr>\n",
       "      <th>2</th>\n",
       "      <td>LP001005</td>\n",
       "      <td>Male</td>\n",
       "      <td>Yes</td>\n",
       "      <td>0</td>\n",
       "      <td>Graduate</td>\n",
       "      <td>Yes</td>\n",
       "      <td>3000</td>\n",
       "      <td>0.0</td>\n",
       "      <td>66.0</td>\n",
       "      <td>360.0</td>\n",
       "      <td>1.0</td>\n",
       "      <td>Urban</td>\n",
       "      <td>Y</td>\n",
       "    </tr>\n",
       "    <tr>\n",
       "      <th>3</th>\n",
       "      <td>LP001006</td>\n",
       "      <td>Male</td>\n",
       "      <td>Yes</td>\n",
       "      <td>0</td>\n",
       "      <td>Not Graduate</td>\n",
       "      <td>No</td>\n",
       "      <td>2583</td>\n",
       "      <td>2358.0</td>\n",
       "      <td>120.0</td>\n",
       "      <td>360.0</td>\n",
       "      <td>1.0</td>\n",
       "      <td>Urban</td>\n",
       "      <td>Y</td>\n",
       "    </tr>\n",
       "    <tr>\n",
       "      <th>4</th>\n",
       "      <td>LP001008</td>\n",
       "      <td>Male</td>\n",
       "      <td>No</td>\n",
       "      <td>0</td>\n",
       "      <td>Graduate</td>\n",
       "      <td>No</td>\n",
       "      <td>6000</td>\n",
       "      <td>0.0</td>\n",
       "      <td>141.0</td>\n",
       "      <td>360.0</td>\n",
       "      <td>1.0</td>\n",
       "      <td>Urban</td>\n",
       "      <td>Y</td>\n",
       "    </tr>\n",
       "  </tbody>\n",
       "</table>\n",
       "</div>"
      ],
      "text/plain": [
       "    Loan_ID Gender Married Dependents     Education Self_Employed  \\\n",
       "0  LP001002   Male      No          0      Graduate            No   \n",
       "1  LP001003   Male     Yes          1      Graduate            No   \n",
       "2  LP001005   Male     Yes          0      Graduate           Yes   \n",
       "3  LP001006   Male     Yes          0  Not Graduate            No   \n",
       "4  LP001008   Male      No          0      Graduate            No   \n",
       "\n",
       "   ApplicantIncome  CoapplicantIncome  LoanAmount  Loan_Amount_Term  \\\n",
       "0             5849                0.0         NaN             360.0   \n",
       "1             4583             1508.0       128.0             360.0   \n",
       "2             3000                0.0        66.0             360.0   \n",
       "3             2583             2358.0       120.0             360.0   \n",
       "4             6000                0.0       141.0             360.0   \n",
       "\n",
       "   Credit_History Property_Area Loan_Status  \n",
       "0             1.0         Urban           Y  \n",
       "1             1.0         Rural           N  \n",
       "2             1.0         Urban           Y  \n",
       "3             1.0         Urban           Y  \n",
       "4             1.0         Urban           Y  "
      ]
     },
     "execution_count": 82,
     "metadata": {},
     "output_type": "execute_result"
    }
   ],
   "source": [
    "df.head()"
   ]
  },
  {
   "cell_type": "code",
   "execution_count": 83,
   "id": "a3409ea1",
   "metadata": {},
   "outputs": [
    {
     "data": {
      "text/plain": [
       "(614, 13)"
      ]
     },
     "execution_count": 83,
     "metadata": {},
     "output_type": "execute_result"
    }
   ],
   "source": [
    "df.shape"
   ]
  },
  {
   "cell_type": "markdown",
   "id": "5313efe0",
   "metadata": {},
   "source": [
    "##### Prepare the data for modeling by performing the following steps:"
   ]
  },
  {
   "cell_type": "code",
   "execution_count": 84,
   "id": "94170132",
   "metadata": {},
   "outputs": [],
   "source": [
    "###### Drop the column “Load_ID.”\n",
    "\n",
    "df = df.drop(\"Loan_ID\",axis=1)"
   ]
  },
  {
   "cell_type": "code",
   "execution_count": 85,
   "id": "b5a75a60",
   "metadata": {},
   "outputs": [
    {
     "data": {
      "text/plain": [
       "(614, 12)"
      ]
     },
     "execution_count": 85,
     "metadata": {},
     "output_type": "execute_result"
    }
   ],
   "source": [
    "df.shape"
   ]
  },
  {
   "cell_type": "code",
   "execution_count": 86,
   "id": "e4893900",
   "metadata": {},
   "outputs": [],
   "source": [
    "##### Drop any rows with missing data.\n",
    "df = df.dropna()"
   ]
  },
  {
   "cell_type": "code",
   "execution_count": 87,
   "id": "03c254b9",
   "metadata": {},
   "outputs": [
    {
     "data": {
      "text/plain": [
       "(480, 12)"
      ]
     },
     "execution_count": 87,
     "metadata": {},
     "output_type": "execute_result"
    }
   ],
   "source": [
    "df.shape"
   ]
  },
  {
   "cell_type": "code",
   "execution_count": 88,
   "id": "542e3d64",
   "metadata": {},
   "outputs": [
    {
     "data": {
      "text/plain": [
       "['Gender',\n",
       " 'Married',\n",
       " 'Dependents',\n",
       " 'Education',\n",
       " 'Self_Employed',\n",
       " 'Property_Area',\n",
       " 'Loan_Status']"
      ]
     },
     "execution_count": 88,
     "metadata": {},
     "output_type": "execute_result"
    }
   ],
   "source": [
    "### Convert the categorical features into dummy variables.\n",
    "df.select_dtypes(include=['object']).columns.tolist()"
   ]
  },
  {
   "cell_type": "code",
   "execution_count": 89,
   "id": "16811d79",
   "metadata": {},
   "outputs": [],
   "source": [
    "newdf = pd.get_dummies(df, columns=df.select_dtypes(include=['object']).columns.tolist(),drop_first=True)"
   ]
  },
  {
   "cell_type": "code",
   "execution_count": 90,
   "id": "f1fac295",
   "metadata": {},
   "outputs": [
    {
     "data": {
      "text/plain": [
       "(480, 15)"
      ]
     },
     "execution_count": 90,
     "metadata": {},
     "output_type": "execute_result"
    }
   ],
   "source": [
    "newdf.shape"
   ]
  },
  {
   "cell_type": "code",
   "execution_count": 91,
   "id": "f6ff997d",
   "metadata": {},
   "outputs": [],
   "source": [
    "newdf = newdf.rename(columns={'Loan_Status_Y':'Loan_Status'})"
   ]
  },
  {
   "cell_type": "markdown",
   "id": "69c94aa0",
   "metadata": {},
   "source": [
    "##### 3.Split the data into a training and test set, where the “Loan_Status” column is the target."
   ]
  },
  {
   "cell_type": "code",
   "execution_count": 92,
   "id": "9b0a5b64",
   "metadata": {},
   "outputs": [],
   "source": [
    "x_data = newdf.drop(['Loan_Status'],axis=1)\n",
    "y_data = newdf['Loan_Status']"
   ]
  },
  {
   "cell_type": "code",
   "execution_count": 93,
   "id": "73c8e5ce",
   "metadata": {},
   "outputs": [],
   "source": [
    "from sklearn.model_selection import train_test_split\n",
    "x_train, x_test, y_train, y_test = train_test_split(x_data, y_data ,test_size = 0.2, shuffle=False)"
   ]
  },
  {
   "cell_type": "markdown",
   "id": "40ec385a",
   "metadata": {},
   "source": [
    "##### 4.Create a pipeline with a min-max scaler and a KNN classifier (see section 15.3 in the Machine Learning with Python Cookbook)."
   ]
  },
  {
   "cell_type": "code",
   "execution_count": 94,
   "id": "749abaa6",
   "metadata": {},
   "outputs": [],
   "source": [
    "from sklearn.preprocessing import MinMaxScaler"
   ]
  },
  {
   "cell_type": "code",
   "execution_count": 95,
   "id": "3cb2322e",
   "metadata": {},
   "outputs": [],
   "source": [
    "from sklearn.pipeline import Pipeline,FeatureUnion"
   ]
  },
  {
   "cell_type": "code",
   "execution_count": 133,
   "id": "df132afe",
   "metadata": {},
   "outputs": [],
   "source": [
    "# define min max scaler\n",
    "scaler = MinMaxScaler()"
   ]
  },
  {
   "cell_type": "code",
   "execution_count": 134,
   "id": "16d9fb2b",
   "metadata": {},
   "outputs": [],
   "source": [
    "from sklearn.neighbors import KNeighborsClassifier"
   ]
  },
  {
   "cell_type": "code",
   "execution_count": 187,
   "id": "39841548",
   "metadata": {},
   "outputs": [],
   "source": [
    "knn = KNeighborsClassifier(n_neighbors=5,n_jobs=-1)"
   ]
  },
  {
   "cell_type": "code",
   "execution_count": 195,
   "id": "176a89cb",
   "metadata": {},
   "outputs": [],
   "source": [
    "pipeline = Pipeline([(\"standardizer\",scaler),(\"classifier\",KNeighborsClassifier())])"
   ]
  },
  {
   "cell_type": "markdown",
   "id": "4278387a",
   "metadata": {},
   "source": [
    "##### 5.Fit a default KNN classifier to the data with this pipeline. "
   ]
  },
  {
   "cell_type": "code",
   "execution_count": 196,
   "id": "b9b85a76",
   "metadata": {},
   "outputs": [
    {
     "data": {
      "text/plain": [
       "Pipeline(steps=[('standardizer', MinMaxScaler()),\n",
       "                ('classifier', KNeighborsClassifier())])"
      ]
     },
     "execution_count": 196,
     "metadata": {},
     "output_type": "execute_result"
    }
   ],
   "source": [
    "pipeline.fit(x_train,y_train)"
   ]
  },
  {
   "cell_type": "code",
   "execution_count": 197,
   "id": "a6ae4220",
   "metadata": {},
   "outputs": [
    {
     "data": {
      "text/plain": [
       "0.75"
      ]
     },
     "execution_count": 197,
     "metadata": {},
     "output_type": "execute_result"
    }
   ],
   "source": [
    "pipeline.score(x_test,y_test)"
   ]
  },
  {
   "cell_type": "code",
   "execution_count": 191,
   "id": "776bd390",
   "metadata": {},
   "outputs": [],
   "source": [
    "##Model accuracy for the test set is 75%"
   ]
  },
  {
   "cell_type": "markdown",
   "id": "caca455e",
   "metadata": {},
   "source": [
    "##### 6.Create a search space for your KNN classifier where your “n_neighbors” parameter varies from 1 to 10. "
   ]
  },
  {
   "cell_type": "code",
   "execution_count": 198,
   "id": "d494741f",
   "metadata": {},
   "outputs": [],
   "source": [
    "search_space = [{\"classifier__n_neighbors\": [1,2,3,4,5,6,7,8,9,10]}]"
   ]
  },
  {
   "cell_type": "markdown",
   "id": "c2a73e8a",
   "metadata": {},
   "source": [
    "##### 7.Fit a grid search with your pipeline, search space, \n",
    "##### and 5-fold cross-validation to find the best value for the “n_neighbors” parameter."
   ]
  },
  {
   "cell_type": "code",
   "execution_count": 193,
   "id": "8d77f2fc",
   "metadata": {},
   "outputs": [],
   "source": [
    "from sklearn.model_selection import GridSearchCV"
   ]
  },
  {
   "cell_type": "code",
   "execution_count": 199,
   "id": "1ff6a7cb",
   "metadata": {},
   "outputs": [],
   "source": [
    "classifier = GridSearchCV(pipeline,search_space,cv=5,verbose=0).fit(x_train,y_train)"
   ]
  },
  {
   "cell_type": "code",
   "execution_count": 200,
   "id": "d97a5ab9",
   "metadata": {},
   "outputs": [
    {
     "data": {
      "text/plain": [
       "4"
      ]
     },
     "execution_count": 200,
     "metadata": {},
     "output_type": "execute_result"
    }
   ],
   "source": [
    "classifier.best_estimator_.get_params()[\"classifier__n_neighbors\"]"
   ]
  },
  {
   "cell_type": "markdown",
   "id": "a88a6cbc",
   "metadata": {},
   "source": [
    "##### 8.Find the accuracy of the grid search best model on the test set."
   ]
  },
  {
   "cell_type": "code",
   "execution_count": 201,
   "id": "20914310",
   "metadata": {},
   "outputs": [],
   "source": [
    "from sklearn.model_selection import cross_val_score\n",
    "all_accuracies = cross_val_score(estimator=classifier, X=x_test, y=y_test, cv=5)"
   ]
  },
  {
   "cell_type": "code",
   "execution_count": 202,
   "id": "a2b03b30",
   "metadata": {},
   "outputs": [
    {
     "name": "stdout",
     "output_type": "stream",
     "text": [
      "[0.75       0.78947368 0.78947368 0.78947368 0.68421053]\n"
     ]
    }
   ],
   "source": [
    "print(all_accuracies)"
   ]
  },
  {
   "cell_type": "code",
   "execution_count": 74,
   "id": "becb5aec",
   "metadata": {},
   "outputs": [],
   "source": [
    "##Accuracy has improved"
   ]
  },
  {
   "cell_type": "markdown",
   "id": "3e450bb8",
   "metadata": {},
   "source": [
    "##### 9.Now, repeat steps 6 and 7 with the same pipeline, but expand your search space to include logistic regression and random forest models with the hyperparameter values"
   ]
  },
  {
   "cell_type": "code",
   "execution_count": 203,
   "id": "e3b4d54f",
   "metadata": {},
   "outputs": [],
   "source": [
    "from sklearn.ensemble import RandomForestClassifier\n",
    "from sklearn.linear_model import LogisticRegression"
   ]
  },
  {
   "cell_type": "code",
   "execution_count": 211,
   "id": "a0825a32",
   "metadata": {},
   "outputs": [],
   "source": [
    "import numpy as np"
   ]
  },
  {
   "cell_type": "code",
   "execution_count": 225,
   "id": "45c90986",
   "metadata": {},
   "outputs": [],
   "source": [
    "search_space2 = [{\"classifier\":[KNeighborsClassifier()],\"classifier__n_neighbors\": [1,2,3,4,5,6,7,8,9,10]},\n",
    "                 {\"classifier\": [LogisticRegression()],\n",
    "                  \"classifier_penalty\":['l1','l2'],\n",
    "                  \"classifier_C\":np.logspace(0,4,10)},\n",
    "                 {\"classifier\":[RandomForestClassifier()],\n",
    "                  \"classifier_n_estimators\":[10,100,1000],\n",
    "                  \"classifier_max_features\":[1,2,3]}]"
   ]
  },
  {
   "cell_type": "code",
   "execution_count": 233,
   "id": "b8d96376",
   "metadata": {},
   "outputs": [],
   "source": [
    "clf = GridSearchCV(pipeline, search_space2, cv = 5, verbose = 3,n_jobs=-1)"
   ]
  },
  {
   "cell_type": "code",
   "execution_count": 138,
   "id": "d67f2005",
   "metadata": {},
   "outputs": [],
   "source": [
    "rf_clf_new = RandomForestClassifier(n_estimators=500)\n",
    "\n",
    "# Fit this to the data and obtain predictions\n",
    "rf_new_predictions = rf_clf_new.fit(x_train, y_train).predict(x_test)"
   ]
  },
  {
   "cell_type": "code",
   "execution_count": 144,
   "id": "50b2ad25",
   "metadata": {},
   "outputs": [
    {
     "name": "stdout",
     "output_type": "stream",
     "text": [
      "0.7840054682159946\n"
     ]
    }
   ],
   "source": [
    "from sklearn.linear_model import LogisticRegression\n",
    "def lr_clf(C):\n",
    "    model = LogisticRegression(C=C, random_state=0)\n",
    "    scores = cross_val_score(model, x_train, y_train, cv=5)\n",
    "    return scores.mean()\n",
    "print(lr_clf(C=0.1))"
   ]
  },
  {
   "cell_type": "code",
   "execution_count": 221,
   "id": "af756c70",
   "metadata": {},
   "outputs": [
    {
     "name": "stdout",
     "output_type": "stream",
     "text": [
      "cv\n",
      "error_score\n",
      "estimator__memory\n",
      "estimator__steps\n",
      "estimator__verbose\n",
      "estimator__standardizer\n",
      "estimator__classifier\n",
      "estimator__standardizer__clip\n",
      "estimator__standardizer__copy\n",
      "estimator__standardizer__feature_range\n",
      "estimator__classifier__algorithm\n",
      "estimator__classifier__leaf_size\n",
      "estimator__classifier__metric\n",
      "estimator__classifier__metric_params\n",
      "estimator__classifier__n_jobs\n",
      "estimator__classifier__n_neighbors\n",
      "estimator__classifier__p\n",
      "estimator__classifier__weights\n",
      "estimator\n",
      "n_jobs\n",
      "param_grid\n",
      "pre_dispatch\n",
      "refit\n",
      "return_train_score\n",
      "scoring\n",
      "verbose\n"
     ]
    }
   ],
   "source": [
    "for param in clf.get_params().keys():\n",
    "    print(param)"
   ]
  },
  {
   "cell_type": "code",
   "execution_count": null,
   "id": "62a40612",
   "metadata": {},
   "outputs": [],
   "source": []
  }
 ],
 "metadata": {
  "kernelspec": {
   "display_name": "Python 3 (ipykernel)",
   "language": "python",
   "name": "python3"
  },
  "language_info": {
   "codemirror_mode": {
    "name": "ipython",
    "version": 3
   },
   "file_extension": ".py",
   "mimetype": "text/x-python",
   "name": "python",
   "nbconvert_exporter": "python",
   "pygments_lexer": "ipython3",
   "version": "3.9.7"
  }
 },
 "nbformat": 4,
 "nbformat_minor": 5
}
